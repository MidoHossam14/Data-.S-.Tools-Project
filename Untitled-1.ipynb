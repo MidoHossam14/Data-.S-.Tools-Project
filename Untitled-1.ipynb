{
 "cells": [
  {
   "cell_type": "code",
   "execution_count": 27,
   "id": "b80f49a9",
   "metadata": {},
   "outputs": [],
   "source": [
    "import requests\n",
    "from bs4 import BeautifulSoup\n",
    "import logging\n",
    "import pandas as pd"
   ]
  },
  {
   "cell_type": "code",
   "execution_count": null,
   "id": "476665e4",
   "metadata": {},
   "outputs": [],
   "source": [
    "logging.basicConfig(level=logging.INFO)\n",
    "\n",
    "headers = {\"User-Agent\": \"Mozilla/5.0\"}\n",
    "\n",
    "def get_page(url):\n",
    "    try:\n",
    "        response = requests.get(url, headers=headers, timeout=10)\n",
    "        if response.status_code == 200:\n",
    "            return BeautifulSoup(response.text, 'lxml')\n",
    "        else:\n",
    "            logging.error(f\"Couldn't get the page. Status code: {response.status_code}\")\n",
    "            return None\n",
    "    except Exception as e:\n",
    "        logging.error(f\"Error while getting the page: {e}\")\n",
    "        return None"
   ]
  },
  {
   "cell_type": "code",
   "execution_count": 36,
   "id": "be2ea9a8",
   "metadata": {},
   "outputs": [],
   "source": [
    "def scrape_book_depository(query):\n",
    "    url = f\"https://www.bookdepository.com/search?searchTerm={query.replace(' ', '+')}\"\n",
    "    soup = get_page(url)\n",
    "    if soup is None: return []\n",
    "\n",
    "    books = soup.find_all('div', class_='book-item')\n",
    "    results = []\n",
    "\n",
    "    for book in books:\n",
    "        title = book.find('h3', class_='title')\n",
    "        price = book.find('p', class_='price')\n",
    "        availability = book.find('p', class_='availability')\n",
    "\n",
    "        results.append({\n",
    "            \"title\": title.text.strip() if title else None,\n",
    "            \"price\": price.text.strip() if price else None,\n",
    "            \"availability\": availability.text.strip() if availability else None,\n",
    "            \"source\": \"Book Depository\"\n",
    "        })\n",
    "\n",
    "    return results"
   ]
  },
  {
   "cell_type": "code",
   "execution_count": 37,
   "id": "0fae7410",
   "metadata": {},
   "outputs": [],
   "source": [
    "def scrape_abebooks(query):\n",
    "    url = f\"https://www.abebooks.com/servlet/SearchResults?kn={query.replace(' ', '+')}\"\n",
    "    soup = get_page(url)\n",
    "    \n",
    "    if not soup:\n",
    "        return []\n",
    "\n",
    "    books = soup.find_all('div', class_='cf result')\n",
    "    results = []\n",
    "\n",
    "    for book in books:\n",
    "        title = book.find('meta', itemprop='name')\n",
    "        price = book.find('p', class_='item-price')\n",
    "\n",
    "        results.append({\n",
    "            \"title\": title['content'] if title else None,\n",
    "            \"price\": price.text.strip() if price else None,\n",
    "            \"source\": \"AbeBooks\"\n",
    "        })\n",
    "\n",
    "    return results\n"
   ]
  },
  {
   "cell_type": "code",
   "execution_count": null,
   "id": "c25877f8",
   "metadata": {},
   "outputs": [],
   "source": [
    "def scrape_books_to_scrape():\n",
    "    url = \"https://books.toscrape.com/\"\n",
    "    soup = get_page(url)\n",
    "    \n",
    "    if not soup:\n",
    "        return []\n",
    "\n",
    "    books = soup.find_all('article', class_='product_pod')\n",
    "    results = []\n",
    "\n",
    "    for book in books:\n",
    "        title = book.h3.a['title']\n",
    "        price = book.find('p', class_='price_color').text.strip()\n",
    "        availability = book.find('p', class_='instock availability').text.strip()\n",
    "\n",
    "        results.append({\n",
    "            \"title\": title,\n",
    "            \"price\": price,\n",
    "            \"availability\": availability,\n",
    "            \"source\": \"Books to Scrape\"\n",
    "        })\n",
    "\n",
    "    return results"
   ]
  },
  {
   "cell_type": "code",
   "execution_count": null,
   "id": "e09870dd",
   "metadata": {},
   "outputs": [
    {
     "name": "stdout",
     "output_type": "stream",
     "text": [
      "✅ Data saved to books_data.csv\n"
     ]
    }
   ],
   "source": [
    "def save_books_to_csv(book_lists, filename=\"books_data.csv\"):\n",
    "    all_books = []\n",
    "    for site_books in book_lists:\n",
    "        all_books.extend(site_books)\n",
    "\n",
    "    df = pd.DataFrame(all_books)\n",
    "    df.to_csv(filename, index=False)\n",
    "    print(f\" Data saved to {filename}\")\n",
    "\n",
    "if __name__ == \"__main__\":\n",
    "    query = \"python programming\"\n",
    "    books1 = scrape_book_depository(query)\n",
    "    books2 = scrape_abebooks(query)\n",
    "    books3 = scrape_books_to_scrape()\n",
    "\n",
    "    save_books_to_csv([books1, books2, books3])\n"
   ]
  },
  {
   "cell_type": "code",
   "execution_count": 43,
   "id": "e356b0cc",
   "metadata": {},
   "outputs": [
    {
     "name": "stdout",
     "output_type": "stream",
     "text": [
      "                                   title    price availability  \\\n",
      "0                   A Light in the Attic  Â£51.77     In stock   \n",
      "1                     Tipping the Velvet  Â£53.74     In stock   \n",
      "2                             Soumission  Â£50.10     In stock   \n",
      "3                          Sharp Objects  Â£47.82     In stock   \n",
      "4  Sapiens: A Brief History of Humankind  Â£54.23     In stock   \n",
      "\n",
      "            source  \n",
      "0  Books to Scrape  \n",
      "1  Books to Scrape  \n",
      "2  Books to Scrape  \n",
      "3  Books to Scrape  \n",
      "4  Books to Scrape  \n"
     ]
    }
   ],
   "source": [
    "df = pd.read_csv(\"books_data.csv\", encoding='utf-8-sig')\n",
    "print(df.head())\n"
   ]
  },
  {
   "cell_type": "code",
   "execution_count": 44,
   "id": "754bd22f",
   "metadata": {},
   "outputs": [
    {
     "name": "stdout",
     "output_type": "stream",
     "text": [
      "<bound method DataFrame.sum of     title  price  availability  source\n",
      "0   False  False         False   False\n",
      "1   False  False         False   False\n",
      "2   False  False         False   False\n",
      "3   False  False         False   False\n",
      "4   False  False         False   False\n",
      "5   False  False         False   False\n",
      "6   False  False         False   False\n",
      "7   False  False         False   False\n",
      "8   False  False         False   False\n",
      "9   False  False         False   False\n",
      "10  False  False         False   False\n",
      "11  False  False         False   False\n",
      "12  False  False         False   False\n",
      "13  False  False         False   False\n",
      "14  False  False         False   False\n",
      "15  False  False         False   False\n",
      "16  False  False         False   False\n",
      "17  False  False         False   False\n",
      "18  False  False         False   False\n",
      "19  False  False         False   False>\n"
     ]
    }
   ],
   "source": [
    "print(df.isnull().sum)"
   ]
  }
 ],
 "metadata": {
  "kernelspec": {
   "display_name": "Python 3",
   "language": "python",
   "name": "python3"
  },
  "language_info": {
   "codemirror_mode": {
    "name": "ipython",
    "version": 3
   },
   "file_extension": ".py",
   "mimetype": "text/x-python",
   "name": "python",
   "nbconvert_exporter": "python",
   "pygments_lexer": "ipython3",
   "version": "3.11.9"
  }
 },
 "nbformat": 4,
 "nbformat_minor": 5
}
