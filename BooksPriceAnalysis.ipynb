{
 "cells": [
  {
   "cell_type": "markdown",
   "id": "acf7ae88",
   "metadata": {},
   "source": [
    "# **Book Price Analysis**"
   ]
  },
  {
   "cell_type": "markdown",
   "id": "cfc4e6b9",
   "metadata": {},
   "source": [
    "**The flow of the project** \n",
    "1. Data Extraction: Perform webscrapping from scrach.\n",
    "2. Data Cleaning & Regular Expression\n",
    "3. Data Analysis : Descriptive Analysis on extracted data after cleaning.\n",
    "4. Visualization the findings.\n",
    "5. Build Database: To save results. \n",
    "\n",
    "**The project is two parts. In this part we applyed Extraction for all books are avialable for us for Analysis.**\n",
    "\n",
    "**The second part is a Book comparison tool. We will extract the data based on specific query.**"
   ]
  },
  {
   "cell_type": "markdown",
   "id": "76b914e4",
   "metadata": {},
   "source": [
    "**In** this project we extracted the bookdata from many websites like :\n",
    "- **[Books To Scrape](https://books.toscrape.com)**\n",
    "- **[Google books API](https://www.googleapis.com)** \n",
    "- **[Open Library](https://openlibrary.org)**\n",
    "\n",
    "  \n",
    "The structure of the extracted data will be as the following:\n",
    "    **Booktitle,Price,Rating,Avialability,Category,Source**\n"
   ]
  },
  {
   "cell_type": "markdown",
   "id": "40525276",
   "metadata": {},
   "source": [
    "## Import Requierd Libraries"
   ]
  },
  {
   "cell_type": "code",
   "execution_count": 2,
   "id": "a823a7e0",
   "metadata": {},
   "outputs": [],
   "source": [
    "import requests\n",
    "from bs4 import BeautifulSoup\n",
    "import pandas as pd\n",
    "import numpy as np\n",
    "import matplotlib.pyplot as plt\n",
    "import seaborn as sns\n",
    "import random\n",
    "import re"
   ]
  },
  {
   "cell_type": "markdown",
   "id": "0cebaa85",
   "metadata": {},
   "source": [
    "## **1. Data Extraction.**"
   ]
  },
  {
   "cell_type": "markdown",
   "id": "2fe328c0",
   "metadata": {},
   "source": [
    "###  **Books To Scrape** "
   ]
  },
  {
   "cell_type": "code",
   "execution_count": 2,
   "id": "e07563aa",
   "metadata": {},
   "outputs": [],
   "source": [
    "# Scrape Books to Scrape \n",
    "def scrape_books_to_scrape(max_books=800):\n",
    "    books = []\n",
    "    url = 'https://books.toscrape.com/catalogue/page-1.html'\n",
    "    base_url = 'https://books.toscrape.com/catalogue/'\n",
    "    while url and len(books) < max_books:\n",
    "        response = requests.get(url)\n",
    "        soup = BeautifulSoup(response.content, 'html.parser')\n",
    "        articles = soup.find_all('article', class_='product_pod')\n",
    "        for article in articles:\n",
    "            if len(books) >= max_books:\n",
    "                break\n",
    "            title = article.h3.a['title']\n",
    "            price = article.find('p', class_='price_color').text.strip()\n",
    "            rating_class = article.find('p', class_='star-rating')['class'][1]\n",
    "            availability = article.find('p', class_='instock availability').text.strip()\n",
    "            # Extracting the category from the detail page\n",
    "            detail_url = base_url + article.h3.a['href'].replace('../../../', '')\n",
    "            detail_response = requests.get(detail_url)\n",
    "            detail_soup = BeautifulSoup(detail_response.content, 'html.parser')\n",
    "            category = detail_soup.find('ul', class_='breadcrumb').find_all('li')[2].text.strip()\n",
    "            books.append({\n",
    "                'title': title,\n",
    "                'price': price,\n",
    "                'rating': rating_class,\n",
    "                'availability': availability,\n",
    "                'category': category,\n",
    "                'source': 'Books to Scrape'\n",
    "            })\n",
    "        next_button = soup.find('li', class_='next')\n",
    "        if next_button:\n",
    "            url = 'https://books.toscrape.com/catalogue/' + next_button.a['href']\n",
    "        else:\n",
    "            url = None\n",
    "    return books"
   ]
  },
  {
   "cell_type": "markdown",
   "id": "e8ce96e4",
   "metadata": {},
   "source": [
    "### **Open Library Scraping**"
   ]
  },
  {
   "cell_type": "code",
   "execution_count": 3,
   "id": "2a99ec59",
   "metadata": {},
   "outputs": [],
   "source": [
    "# Scrape OpenLibrary (Second source)\n",
    "def scrape_openlibrary(max_books=150):\n",
    "    books = []\n",
    "    base_url = \"https://openlibrary.org/search.json?q=python\"\n",
    "    response = requests.get(base_url)\n",
    "    if response.status_code == 200:\n",
    "        data = response.json()\n",
    "        docs = data.get('docs', [])\n",
    "        for doc in docs[:max_books]:\n",
    "            title = doc.get('title', 'Unknown')\n",
    "            price = f\"£{random.randint(10, 100)}.00\" \n",
    "            rating = random.choice(['One', 'Two', 'Three', 'Four', 'Five'])\n",
    "            availability = 'In stock'\n",
    "            subjects = doc.get('subject')\n",
    "            if subjects:\n",
    "                category = subjects[0]\n",
    "            else:\n",
    "                category = 'Programming'\n",
    "            books.append({\n",
    "                'title': title,\n",
    "                'price': price,\n",
    "                'rating': rating,\n",
    "                'availability': availability,\n",
    "                'category': category,\n",
    "                'source': 'OpenLibrary'\n",
    "            })\n",
    "    return books"
   ]
  },
  {
   "cell_type": "markdown",
   "id": "60be3e52",
   "metadata": {},
   "source": [
    "### **Google  Books API**"
   ]
  },
  {
   "cell_type": "code",
   "execution_count": 4,
   "id": "f5e75d18",
   "metadata": {},
   "outputs": [],
   "source": [
    "# Scrape Google Books API \n",
    "def scrape_google_books_api(max_books=150):\n",
    "    books = []\n",
    "    base_url = \"https://www.googleapis.com/books/v1/volumes?q=python&maxResults=40\"  # Search query and max results\n",
    "    response = requests.get(base_url)\n",
    "    \n",
    "    if response.status_code == 200:\n",
    "        data = response.json()\n",
    "        items = data.get('items', [])\n",
    "        for item in items[:max_books]:\n",
    "            title = item['volumeInfo'].get('title', 'Unknown')\n",
    "            price = 'N/A'  # Google Books API does not provide price\n",
    "            rating = item['volumeInfo'].get('averageRating', 'N/A')\n",
    "            availability = 'In stock'  # Not available in Google Books API, so we assume it's in stock\n",
    "            categories = item['volumeInfo'].get('categories', ['N/A'])\n",
    "            category = ', '.join(categories)\n",
    "            books.append({\n",
    "                'title': title,\n",
    "                'price': price,\n",
    "                'rating': rating,\n",
    "                'availability': availability,\n",
    "                'category': category,\n",
    "                'source': 'Google Books API'\n",
    "            })\n",
    "    return books"
   ]
  },
  {
   "cell_type": "markdown",
   "id": "94609163",
   "metadata": {},
   "source": [
    "### **Get Books From All Sources**"
   ]
  },
  {
   "cell_type": "code",
   "execution_count": 5,
   "id": "c11aea46",
   "metadata": {},
   "outputs": [],
   "source": [
    "books1 = scrape_books_to_scrape()"
   ]
  },
  {
   "cell_type": "code",
   "execution_count": 6,
   "id": "2cb0882e",
   "metadata": {},
   "outputs": [],
   "source": [
    "books2 = scrape_openlibrary()"
   ]
  },
  {
   "cell_type": "code",
   "execution_count": 7,
   "id": "60c3a436",
   "metadata": {},
   "outputs": [],
   "source": [
    "books3 = scrape_google_books_api()"
   ]
  },
  {
   "cell_type": "markdown",
   "id": "c12ffc07",
   "metadata": {},
   "source": [
    "### Store Results in CSV File"
   ]
  },
  {
   "cell_type": "code",
   "execution_count": null,
   "id": "192b5160",
   "metadata": {},
   "outputs": [],
   "source": [
    "# Combine all books\n",
    "all_books = books1 + books2 + books3\n",
    "\n",
    "# Clean price function\n",
    "def clean_price(price):\n",
    "    return price.replace('Â', '').replace('Ã‚', '').replace('Â£', '£').strip()\n",
    "\n",
    "# Clean prices\n",
    "for book in all_books:\n",
    "    book['price'] = clean_price(book['price'])\n",
    "\n",
    "# Save to CSV\n",
    "df = pd.DataFrame(all_books)\n",
    "df.to_csv(\"books.csv\", index=False, encoding='utf-8-sig')"
   ]
  },
  {
   "cell_type": "markdown",
   "id": "0a25b0f5",
   "metadata": {},
   "source": [
    "### **Let's start Exploring**"
   ]
  },
  {
   "cell_type": "code",
   "execution_count": 3,
   "id": "8ae42f84",
   "metadata": {
    "notebookRunGroups": {
     "groupValue": "2"
    }
   },
   "outputs": [
    {
     "data": {
      "application/vnd.microsoft.datawrangler.viewer.v0+json": {
       "columns": [
        {
         "name": "index",
         "rawType": "int64",
         "type": "integer"
        },
        {
         "name": "title",
         "rawType": "object",
         "type": "string"
        },
        {
         "name": "price",
         "rawType": "object",
         "type": "string"
        },
        {
         "name": "rating",
         "rawType": "object",
         "type": "string"
        },
        {
         "name": "availability",
         "rawType": "object",
         "type": "string"
        },
        {
         "name": "category",
         "rawType": "object",
         "type": "string"
        },
        {
         "name": "source",
         "rawType": "object",
         "type": "string"
        }
       ],
       "conversionMethod": "pd.DataFrame",
       "ref": "0242d33a-2f9b-43db-b2b7-995fc8e94569",
       "rows": [
        [
         "0",
         "A Light in the Attic",
         "£51.77",
         "Three",
         "In stock",
         "Poetry",
         "Books to Scrape"
        ],
        [
         "1",
         "Tipping the Velvet",
         "£53.74",
         "One",
         "In stock",
         "Historical Fiction",
         "Books to Scrape"
        ],
        [
         "2",
         "Soumission",
         "£50.10",
         "One",
         "In stock",
         "Fiction",
         "Books to Scrape"
        ],
        [
         "3",
         "Sharp Objects",
         "£47.82",
         "Four",
         "In stock",
         "Mystery",
         "Books to Scrape"
        ],
        [
         "4",
         "Sapiens: A Brief History of Humankind",
         "£54.23",
         "Five",
         "In stock",
         "History",
         "Books to Scrape"
        ],
        [
         "5",
         "The Requiem Red",
         "£22.65",
         "One",
         "In stock",
         "Young Adult",
         "Books to Scrape"
        ],
        [
         "6",
         "The Dirty Little Secrets of Getting Your Dream Job",
         "£33.34",
         "Four",
         "In stock",
         "Business",
         "Books to Scrape"
        ],
        [
         "7",
         "The Coming Woman: A Novel Based on the Life of the Infamous Feminist, Victoria Woodhull",
         "£17.93",
         "Three",
         "In stock",
         "Default",
         "Books to Scrape"
        ],
        [
         "8",
         "The Boys in the Boat: Nine Americans and Their Epic Quest for Gold at the 1936 Berlin Olympics",
         "£22.60",
         "Four",
         "In stock",
         "Default",
         "Books to Scrape"
        ],
        [
         "9",
         "The Black Maria",
         "£52.15",
         "One",
         "In stock",
         "Poetry",
         "Books to Scrape"
        ]
       ],
       "shape": {
        "columns": 6,
        "rows": 10
       }
      },
      "text/html": [
       "<div>\n",
       "<style scoped>\n",
       "    .dataframe tbody tr th:only-of-type {\n",
       "        vertical-align: middle;\n",
       "    }\n",
       "\n",
       "    .dataframe tbody tr th {\n",
       "        vertical-align: top;\n",
       "    }\n",
       "\n",
       "    .dataframe thead th {\n",
       "        text-align: right;\n",
       "    }\n",
       "</style>\n",
       "<table border=\"1\" class=\"dataframe\">\n",
       "  <thead>\n",
       "    <tr style=\"text-align: right;\">\n",
       "      <th></th>\n",
       "      <th>title</th>\n",
       "      <th>price</th>\n",
       "      <th>rating</th>\n",
       "      <th>availability</th>\n",
       "      <th>category</th>\n",
       "      <th>source</th>\n",
       "    </tr>\n",
       "  </thead>\n",
       "  <tbody>\n",
       "    <tr>\n",
       "      <th>0</th>\n",
       "      <td>A Light in the Attic</td>\n",
       "      <td>£51.77</td>\n",
       "      <td>Three</td>\n",
       "      <td>In stock</td>\n",
       "      <td>Poetry</td>\n",
       "      <td>Books to Scrape</td>\n",
       "    </tr>\n",
       "    <tr>\n",
       "      <th>1</th>\n",
       "      <td>Tipping the Velvet</td>\n",
       "      <td>£53.74</td>\n",
       "      <td>One</td>\n",
       "      <td>In stock</td>\n",
       "      <td>Historical Fiction</td>\n",
       "      <td>Books to Scrape</td>\n",
       "    </tr>\n",
       "    <tr>\n",
       "      <th>2</th>\n",
       "      <td>Soumission</td>\n",
       "      <td>£50.10</td>\n",
       "      <td>One</td>\n",
       "      <td>In stock</td>\n",
       "      <td>Fiction</td>\n",
       "      <td>Books to Scrape</td>\n",
       "    </tr>\n",
       "    <tr>\n",
       "      <th>3</th>\n",
       "      <td>Sharp Objects</td>\n",
       "      <td>£47.82</td>\n",
       "      <td>Four</td>\n",
       "      <td>In stock</td>\n",
       "      <td>Mystery</td>\n",
       "      <td>Books to Scrape</td>\n",
       "    </tr>\n",
       "    <tr>\n",
       "      <th>4</th>\n",
       "      <td>Sapiens: A Brief History of Humankind</td>\n",
       "      <td>£54.23</td>\n",
       "      <td>Five</td>\n",
       "      <td>In stock</td>\n",
       "      <td>History</td>\n",
       "      <td>Books to Scrape</td>\n",
       "    </tr>\n",
       "    <tr>\n",
       "      <th>5</th>\n",
       "      <td>The Requiem Red</td>\n",
       "      <td>£22.65</td>\n",
       "      <td>One</td>\n",
       "      <td>In stock</td>\n",
       "      <td>Young Adult</td>\n",
       "      <td>Books to Scrape</td>\n",
       "    </tr>\n",
       "    <tr>\n",
       "      <th>6</th>\n",
       "      <td>The Dirty Little Secrets of Getting Your Dream...</td>\n",
       "      <td>£33.34</td>\n",
       "      <td>Four</td>\n",
       "      <td>In stock</td>\n",
       "      <td>Business</td>\n",
       "      <td>Books to Scrape</td>\n",
       "    </tr>\n",
       "    <tr>\n",
       "      <th>7</th>\n",
       "      <td>The Coming Woman: A Novel Based on the Life of...</td>\n",
       "      <td>£17.93</td>\n",
       "      <td>Three</td>\n",
       "      <td>In stock</td>\n",
       "      <td>Default</td>\n",
       "      <td>Books to Scrape</td>\n",
       "    </tr>\n",
       "    <tr>\n",
       "      <th>8</th>\n",
       "      <td>The Boys in the Boat: Nine Americans and Their...</td>\n",
       "      <td>£22.60</td>\n",
       "      <td>Four</td>\n",
       "      <td>In stock</td>\n",
       "      <td>Default</td>\n",
       "      <td>Books to Scrape</td>\n",
       "    </tr>\n",
       "    <tr>\n",
       "      <th>9</th>\n",
       "      <td>The Black Maria</td>\n",
       "      <td>£52.15</td>\n",
       "      <td>One</td>\n",
       "      <td>In stock</td>\n",
       "      <td>Poetry</td>\n",
       "      <td>Books to Scrape</td>\n",
       "    </tr>\n",
       "  </tbody>\n",
       "</table>\n",
       "</div>"
      ],
      "text/plain": [
       "                                               title   price rating  \\\n",
       "0                               A Light in the Attic  £51.77  Three   \n",
       "1                                 Tipping the Velvet  £53.74    One   \n",
       "2                                         Soumission  £50.10    One   \n",
       "3                                      Sharp Objects  £47.82   Four   \n",
       "4              Sapiens: A Brief History of Humankind  £54.23   Five   \n",
       "5                                    The Requiem Red  £22.65    One   \n",
       "6  The Dirty Little Secrets of Getting Your Dream...  £33.34   Four   \n",
       "7  The Coming Woman: A Novel Based on the Life of...  £17.93  Three   \n",
       "8  The Boys in the Boat: Nine Americans and Their...  £22.60   Four   \n",
       "9                                    The Black Maria  £52.15    One   \n",
       "\n",
       "  availability            category           source  \n",
       "0     In stock              Poetry  Books to Scrape  \n",
       "1     In stock  Historical Fiction  Books to Scrape  \n",
       "2     In stock             Fiction  Books to Scrape  \n",
       "3     In stock             Mystery  Books to Scrape  \n",
       "4     In stock             History  Books to Scrape  \n",
       "5     In stock         Young Adult  Books to Scrape  \n",
       "6     In stock            Business  Books to Scrape  \n",
       "7     In stock             Default  Books to Scrape  \n",
       "8     In stock             Default  Books to Scrape  \n",
       "9     In stock              Poetry  Books to Scrape  "
      ]
     },
     "execution_count": 3,
     "metadata": {},
     "output_type": "execute_result"
    }
   ],
   "source": [
    "# Read the saved file\n",
    "df = pd.read_csv(\"books.csv\")\n",
    "df.head(10)"
   ]
  },
  {
   "cell_type": "markdown",
   "id": "7af55f19",
   "metadata": {},
   "source": [
    "**From Last Sample we got that:**\n",
    "- **In cleaning we have to encode features like Rating and avialability**\n",
    "- **The Price must be transferd to Float**"
   ]
  },
  {
   "cell_type": "code",
   "execution_count": 4,
   "id": "2f3aeb51",
   "metadata": {
    "notebookRunGroups": {
     "groupValue": "2"
    }
   },
   "outputs": [
    {
     "name": "stdout",
     "output_type": "stream",
     "text": [
      "Index(['title', 'price', 'rating', 'availability', 'category', 'source'], dtype='object')\n"
     ]
    }
   ],
   "source": [
    "print(df.columns)"
   ]
  },
  {
   "cell_type": "code",
   "execution_count": 5,
   "id": "93fd6cd6",
   "metadata": {
    "notebookRunGroups": {
     "groupValue": "2"
    }
   },
   "outputs": [
    {
     "name": "stdout",
     "output_type": "stream",
     "text": [
      "<class 'pandas.core.frame.DataFrame'>\n",
      "RangeIndex: 940 entries, 0 to 939\n",
      "Data columns (total 6 columns):\n",
      " #   Column        Non-Null Count  Dtype \n",
      "---  ------        --------------  ----- \n",
      " 0   title         940 non-null    object\n",
      " 1   price         900 non-null    object\n",
      " 2   rating        907 non-null    object\n",
      " 3   availability  940 non-null    object\n",
      " 4   category      939 non-null    object\n",
      " 5   source        940 non-null    object\n",
      "dtypes: object(6)\n",
      "memory usage: 44.2+ KB\n"
     ]
    }
   ],
   "source": [
    "df.info()"
   ]
  },
  {
   "cell_type": "markdown",
   "id": "cb9bae97",
   "metadata": {},
   "source": [
    "## **2. Cleaning & Regular Expressions**"
   ]
  },
  {
   "cell_type": "markdown",
   "id": "e6ca0027",
   "metadata": {},
   "source": [
    "### **1. Handle Missing Values**"
   ]
  },
  {
   "cell_type": "code",
   "execution_count": 6,
   "id": "d1b5181f",
   "metadata": {
    "notebookRunGroups": {
     "groupValue": "2"
    }
   },
   "outputs": [],
   "source": [
    "# Replace missing price with 'Free Access'\n",
    "df['price'] = df['price'].fillna('Free Access')\n",
    "\n",
    "df['title'] = df['title'].replace('????', 'unknown')\n",
    "\n",
    "# Drop rows with missing rating or category\n",
    "df = df.dropna()"
   ]
  },
  {
   "cell_type": "code",
   "execution_count": 7,
   "id": "96a749a1",
   "metadata": {
    "notebookRunGroups": {
     "groupValue": "2"
    }
   },
   "outputs": [
    {
     "name": "stdout",
     "output_type": "stream",
     "text": [
      "title           0\n",
      "price           0\n",
      "rating          0\n",
      "availability    0\n",
      "category        0\n",
      "source          0\n",
      "dtype: int64\n"
     ]
    }
   ],
   "source": [
    "# Check for missing values\n",
    "print(df.isna().sum())"
   ]
  },
  {
   "cell_type": "markdown",
   "id": "0a07e08c",
   "metadata": {},
   "source": [
    "### **2. Clean Price**"
   ]
  },
  {
   "cell_type": "code",
   "execution_count": 8,
   "id": "8224612e",
   "metadata": {
    "notebookRunGroups": {
     "groupValue": "2"
    }
   },
   "outputs": [],
   "source": [
    "# If price is not \"Free Access\", remove the £ sign and convert to float\n",
    "def clean_price(value):\n",
    "    if value == 'Free Access':\n",
    "        return 0.0\n",
    "    else:\n",
    "        # Convert value to string before using regex\n",
    "        value_str = str(value)\n",
    "        price_num = re.sub(r'[^\\d\\.]', '', value_str)\n",
    "        return float(price_num)\n",
    "df['price'] = df['price'].apply(clean_price)"
   ]
  },
  {
   "cell_type": "markdown",
   "id": "d4ac9523",
   "metadata": {},
   "source": [
    "### **3. Preprocessing**"
   ]
  },
  {
   "cell_type": "code",
   "execution_count": 9,
   "id": "1cc377ef",
   "metadata": {
    "notebookRunGroups": {
     "groupValue": "1"
    }
   },
   "outputs": [
    {
     "data": {
      "application/vnd.microsoft.datawrangler.viewer.v0+json": {
       "columns": [
        {
         "name": "index",
         "rawType": "int64",
         "type": "integer"
        },
        {
         "name": "title",
         "rawType": "object",
         "type": "string"
        },
        {
         "name": "price",
         "rawType": "float64",
         "type": "float"
        },
        {
         "name": "rating",
         "rawType": "object",
         "type": "string"
        },
        {
         "name": "availability",
         "rawType": "object",
         "type": "string"
        },
        {
         "name": "category",
         "rawType": "object",
         "type": "string"
        },
        {
         "name": "source",
         "rawType": "object",
         "type": "string"
        },
        {
         "name": "rating_num",
         "rawType": "Int64",
         "type": "integer"
        },
        {
         "name": "availability_num",
         "rawType": "int64",
         "type": "integer"
        }
       ],
       "conversionMethod": "pd.DataFrame",
       "ref": "a99b894b-11f3-4f60-ac31-5b04f75786a8",
       "rows": [
        [
         "0",
         "A Light in the Attic",
         "51.77",
         "Three",
         "In stock",
         "Poetry",
         "Books to Scrape",
         "3",
         "1"
        ],
        [
         "1",
         "Tipping the Velvet",
         "53.74",
         "One",
         "In stock",
         "Historical Fiction",
         "Books to Scrape",
         "1",
         "1"
        ],
        [
         "2",
         "Soumission",
         "50.1",
         "One",
         "In stock",
         "Fiction",
         "Books to Scrape",
         "1",
         "1"
        ],
        [
         "3",
         "Sharp Objects",
         "47.82",
         "Four",
         "In stock",
         "Mystery",
         "Books to Scrape",
         "4",
         "1"
        ],
        [
         "4",
         "Sapiens: A Brief History of Humankind",
         "54.23",
         "Five",
         "In stock",
         "History",
         "Books to Scrape",
         "5",
         "1"
        ]
       ],
       "shape": {
        "columns": 8,
        "rows": 5
       }
      },
      "text/html": [
       "<div>\n",
       "<style scoped>\n",
       "    .dataframe tbody tr th:only-of-type {\n",
       "        vertical-align: middle;\n",
       "    }\n",
       "\n",
       "    .dataframe tbody tr th {\n",
       "        vertical-align: top;\n",
       "    }\n",
       "\n",
       "    .dataframe thead th {\n",
       "        text-align: right;\n",
       "    }\n",
       "</style>\n",
       "<table border=\"1\" class=\"dataframe\">\n",
       "  <thead>\n",
       "    <tr style=\"text-align: right;\">\n",
       "      <th></th>\n",
       "      <th>title</th>\n",
       "      <th>price</th>\n",
       "      <th>rating</th>\n",
       "      <th>availability</th>\n",
       "      <th>category</th>\n",
       "      <th>source</th>\n",
       "      <th>rating_num</th>\n",
       "      <th>availability_num</th>\n",
       "    </tr>\n",
       "  </thead>\n",
       "  <tbody>\n",
       "    <tr>\n",
       "      <th>0</th>\n",
       "      <td>A Light in the Attic</td>\n",
       "      <td>51.77</td>\n",
       "      <td>Three</td>\n",
       "      <td>In stock</td>\n",
       "      <td>Poetry</td>\n",
       "      <td>Books to Scrape</td>\n",
       "      <td>3</td>\n",
       "      <td>1</td>\n",
       "    </tr>\n",
       "    <tr>\n",
       "      <th>1</th>\n",
       "      <td>Tipping the Velvet</td>\n",
       "      <td>53.74</td>\n",
       "      <td>One</td>\n",
       "      <td>In stock</td>\n",
       "      <td>Historical Fiction</td>\n",
       "      <td>Books to Scrape</td>\n",
       "      <td>1</td>\n",
       "      <td>1</td>\n",
       "    </tr>\n",
       "    <tr>\n",
       "      <th>2</th>\n",
       "      <td>Soumission</td>\n",
       "      <td>50.10</td>\n",
       "      <td>One</td>\n",
       "      <td>In stock</td>\n",
       "      <td>Fiction</td>\n",
       "      <td>Books to Scrape</td>\n",
       "      <td>1</td>\n",
       "      <td>1</td>\n",
       "    </tr>\n",
       "    <tr>\n",
       "      <th>3</th>\n",
       "      <td>Sharp Objects</td>\n",
       "      <td>47.82</td>\n",
       "      <td>Four</td>\n",
       "      <td>In stock</td>\n",
       "      <td>Mystery</td>\n",
       "      <td>Books to Scrape</td>\n",
       "      <td>4</td>\n",
       "      <td>1</td>\n",
       "    </tr>\n",
       "    <tr>\n",
       "      <th>4</th>\n",
       "      <td>Sapiens: A Brief History of Humankind</td>\n",
       "      <td>54.23</td>\n",
       "      <td>Five</td>\n",
       "      <td>In stock</td>\n",
       "      <td>History</td>\n",
       "      <td>Books to Scrape</td>\n",
       "      <td>5</td>\n",
       "      <td>1</td>\n",
       "    </tr>\n",
       "  </tbody>\n",
       "</table>\n",
       "</div>"
      ],
      "text/plain": [
       "                                   title  price rating availability  \\\n",
       "0                   A Light in the Attic  51.77  Three     In stock   \n",
       "1                     Tipping the Velvet  53.74    One     In stock   \n",
       "2                             Soumission  50.10    One     In stock   \n",
       "3                          Sharp Objects  47.82   Four     In stock   \n",
       "4  Sapiens: A Brief History of Humankind  54.23   Five     In stock   \n",
       "\n",
       "             category           source  rating_num  availability_num  \n",
       "0              Poetry  Books to Scrape           3                 1  \n",
       "1  Historical Fiction  Books to Scrape           1                 1  \n",
       "2             Fiction  Books to Scrape           1                 1  \n",
       "3             Mystery  Books to Scrape           4                 1  \n",
       "4             History  Books to Scrape           5                 1  "
      ]
     },
     "execution_count": 9,
     "metadata": {},
     "output_type": "execute_result"
    }
   ],
   "source": [
    "rating_map = {'One': 1, 'Two': 2, 'Three': 3, 'Four': 4, 'Five': 5}\n",
    "df['rating_num'] = df['rating'].map(rating_map)\n",
    "df['rating_num'] = df['rating_num'].astype(float).astype('Int64')\n",
    "df = df.dropna()\n",
    "\n",
    "\n",
    "df['availability_num'] = df['availability'].apply(lambda x: 1 if 'In stock' in x else 0)\n",
    "\n",
    "df.head()"
   ]
  },
  {
   "cell_type": "markdown",
   "id": "391238f7",
   "metadata": {},
   "source": [
    "## **3. Books Data Analysis & Visual Representations**"
   ]
  },
  {
   "cell_type": "markdown",
   "id": "a37a59c8",
   "metadata": {},
   "source": [
    "### **Basic Descriptive Statistics**"
   ]
  },
  {
   "cell_type": "code",
   "execution_count": 10,
   "id": "e1c69c8f",
   "metadata": {},
   "outputs": [
    {
     "name": "stdout",
     "output_type": "stream",
     "text": [
      "Dataset shape: (900, 8)\n",
      "Data types: title                object\n",
      "price               float64\n",
      "rating               object\n",
      "availability         object\n",
      "category             object\n",
      "source               object\n",
      "rating_num            Int64\n",
      "availability_num      int64\n",
      "dtype: object\n"
     ]
    },
    {
     "data": {
      "application/vnd.microsoft.datawrangler.viewer.v0+json": {
       "columns": [
        {
         "name": "index",
         "rawType": "object",
         "type": "string"
        },
        {
         "name": "price",
         "rawType": "float64",
         "type": "float"
        },
        {
         "name": "rating_num",
         "rawType": "Float64",
         "type": "float"
        }
       ],
       "conversionMethod": "pd.DataFrame",
       "ref": "cf8432a8-cf54-41e3-8704-f0c0f47866be",
       "rows": [
        [
         "count",
         "900.0",
         "900.0"
        ],
        [
         "mean",
         "37.004555555555555",
         "2.94"
        ],
        [
         "std",
         "17.343033328408286",
         "1.4285971712284131"
        ],
        [
         "min",
         "10.0",
         "1.0"
        ],
        [
         "25%",
         "22.13",
         "2.0"
        ],
        [
         "50%",
         "36.925",
         "3.0"
        ],
        [
         "75%",
         "49.0075",
         "4.0"
        ],
        [
         "max",
         "100.0",
         "5.0"
        ]
       ],
       "shape": {
        "columns": 2,
        "rows": 8
       }
      },
      "text/html": [
       "<div>\n",
       "<style scoped>\n",
       "    .dataframe tbody tr th:only-of-type {\n",
       "        vertical-align: middle;\n",
       "    }\n",
       "\n",
       "    .dataframe tbody tr th {\n",
       "        vertical-align: top;\n",
       "    }\n",
       "\n",
       "    .dataframe thead th {\n",
       "        text-align: right;\n",
       "    }\n",
       "</style>\n",
       "<table border=\"1\" class=\"dataframe\">\n",
       "  <thead>\n",
       "    <tr style=\"text-align: right;\">\n",
       "      <th></th>\n",
       "      <th>price</th>\n",
       "      <th>rating_num</th>\n",
       "    </tr>\n",
       "  </thead>\n",
       "  <tbody>\n",
       "    <tr>\n",
       "      <th>count</th>\n",
       "      <td>900.000000</td>\n",
       "      <td>900.0</td>\n",
       "    </tr>\n",
       "    <tr>\n",
       "      <th>mean</th>\n",
       "      <td>37.004556</td>\n",
       "      <td>2.94</td>\n",
       "    </tr>\n",
       "    <tr>\n",
       "      <th>std</th>\n",
       "      <td>17.343033</td>\n",
       "      <td>1.428597</td>\n",
       "    </tr>\n",
       "    <tr>\n",
       "      <th>min</th>\n",
       "      <td>10.000000</td>\n",
       "      <td>1.0</td>\n",
       "    </tr>\n",
       "    <tr>\n",
       "      <th>25%</th>\n",
       "      <td>22.130000</td>\n",
       "      <td>2.0</td>\n",
       "    </tr>\n",
       "    <tr>\n",
       "      <th>50%</th>\n",
       "      <td>36.925000</td>\n",
       "      <td>3.0</td>\n",
       "    </tr>\n",
       "    <tr>\n",
       "      <th>75%</th>\n",
       "      <td>49.007500</td>\n",
       "      <td>4.0</td>\n",
       "    </tr>\n",
       "    <tr>\n",
       "      <th>max</th>\n",
       "      <td>100.000000</td>\n",
       "      <td>5.0</td>\n",
       "    </tr>\n",
       "  </tbody>\n",
       "</table>\n",
       "</div>"
      ],
      "text/plain": [
       "            price  rating_num\n",
       "count  900.000000       900.0\n",
       "mean    37.004556        2.94\n",
       "std     17.343033    1.428597\n",
       "min     10.000000         1.0\n",
       "25%     22.130000         2.0\n",
       "50%     36.925000         3.0\n",
       "75%     49.007500         4.0\n",
       "max    100.000000         5.0"
      ]
     },
     "execution_count": 10,
     "metadata": {},
     "output_type": "execute_result"
    }
   ],
   "source": [
    "print(\"Dataset shape:\", df.shape)\n",
    "print(\"Data types:\", df.dtypes)\n",
    "df[['price', 'rating_num']].describe()"
   ]
  },
  {
   "cell_type": "markdown",
   "id": "7470d62f",
   "metadata": {},
   "source": [
    "### **Price Distribution**"
   ]
  },
  {
   "cell_type": "code",
   "execution_count": 11,
   "id": "cabf1d0a",
   "metadata": {},
   "outputs": [
    {
     "data": {
      "image/png": "[encoded data removed]",
      "text/plain": [
       "<Figure size 800x500 with 1 Axes>"
      ]
     },
     "metadata": {},
     "output_type": "display_data"
    }
   ],
   "source": [
    "plt.figure(figsize=(8,5))\n",
    "sns.histplot(df['price'], color='skyblue', bins=20)\n",
    "plt.title('Distribution of Book Prices (Paid Books)')\n",
    "plt.xlabel('Price (£)')\n",
    "plt.ylabel('Number of Books')\n",
    "plt.show()"
   ]
  },
  {
   "cell_type": "markdown",
   "id": "b147a822",
   "metadata": {},
   "source": [
    "### **Price Analysis**"
   ]
  },
  {
   "cell_type": "code",
   "execution_count": 12,
   "id": "adf71daa",
   "metadata": {},
   "outputs": [
    {
     "name": "stdout",
     "output_type": "stream",
     "text": [
      "Mean price: £37.00\n",
      "Median price: £36.92\n",
      "Minimum price: £10.00\n",
      "Maximum price: £100.00\n",
      "Standard deviation: £17.34\n"
     ]
    }
   ],
   "source": [
    "print(f\"Mean price: £{df['price'].mean():.2f}\")\n",
    "print(f\"Median price: £{df['price'].median():.2f}\")\n",
    "print(f\"Minimum price: £{df['price'].min():.2f}\")\n",
    "print(f\"Maximum price: £{df['price'].max():.2f}\")\n",
    "print(f\"Standard deviation: £{df['price'].std():.2f}\")"
   ]
  },
  {
   "cell_type": "markdown",
   "id": "6e010a88",
   "metadata": {},
   "source": [
    "### **Box plot for Price**"
   ]
  },
  {
   "cell_type": "code",
   "execution_count": 13,
   "id": "6f1e3f03",
   "metadata": {},
   "outputs": [
    {
     "data": {
      "image/png": "[encoded data removed]",
      "text/plain": [
       "<Figure size 800x600 with 1 Axes>"
      ]
     },
     "metadata": {},
     "output_type": "display_data"
    }
   ],
   "source": [
    "plt.figure(figsize=(8, 6))\n",
    "sns.boxplot(x=df['price'])\n",
    "plt.title('Price Distribution Boxplot')\n",
    "plt.xlabel('Price (£)')\n",
    "plt.show()"
   ]
  },
  {
   "cell_type": "markdown",
   "id": "c6ee7b41",
   "metadata": {},
   "source": [
    "### **Top Categories**"
   ]
  },
  {
   "cell_type": "code",
   "execution_count": 14,
   "id": "dacb4cf3",
   "metadata": {},
   "outputs": [
    {
     "data": {
      "image/png": "[encoded data removed]",
      "text/plain": [
       "<Figure size 1400x800 with 1 Axes>"
      ]
     },
     "metadata": {},
     "output_type": "display_data"
    }
   ],
   "source": [
    "plt.figure(figsize=(14, 8))\n",
    "df['category'].value_counts().head(15).plot(kind='barh')\n",
    "plt.title('Top 15 Categories by Book Count')\n",
    "plt.xlabel('Number of Books')\n",
    "plt.ylabel('Category')\n",
    "plt.show()"
   ]
  },
  {
   "cell_type": "markdown",
   "id": "de9ac652",
   "metadata": {},
   "source": [
    "### **Top Categories by Average Price**"
   ]
  },
  {
   "cell_type": "code",
   "execution_count": 15,
   "id": "b86cc39a",
   "metadata": {},
   "outputs": [
    {
     "data": {
      "image/png": "[encoded data removed]",
      "text/plain": [
       "<Figure size 1400x800 with 1 Axes>"
      ]
     },
     "metadata": {},
     "output_type": "display_data"
    }
   ],
   "source": [
    "plt.figure(figsize=(14, 8))\n",
    "df.groupby('category')['price'].mean().sort_values(ascending=False).head(15).plot(kind='barh')\n",
    "plt.title('Top 15 Categories by Average Price')\n",
    "plt.xlabel('Average Price (£)')\n",
    "plt.ylabel('Category')\n",
    "plt.show()"
   ]
  },
  {
   "cell_type": "markdown",
   "id": "19249f46",
   "metadata": {},
   "source": [
    "### **Source Analysis**"
   ]
  },
  {
   "cell_type": "code",
   "execution_count": 17,
   "id": "e08c3864",
   "metadata": {},
   "outputs": [
    {
     "name": "stdout",
     "output_type": "stream",
     "text": [
      "Books by source:\n",
      " source\n",
      "Books to Scrape    800\n",
      "OpenLibrary        100\n",
      "Name: count, dtype: int64\n"
     ]
    },
    {
     "data": {
      "image/png": "[encoded data removed]",
      "text/plain": [
       "<Figure size 1000x600 with 1 Axes>"
      ]
     },
     "metadata": {},
     "output_type": "display_data"
    }
   ],
   "source": [
    "print(\"Books by source:\\n\", df['source'].value_counts())\n",
    "\n",
    "# Price distribution by source\n",
    "plt.figure(figsize=(10, 6))\n",
    "sns.boxplot(x='source', y=df['price'], data=df)\n",
    "plt.title('Price Distribution by Source')\n",
    "plt.xlabel('Source')\n",
    "plt.ylabel('Price (£)')\n",
    "plt.show()"
   ]
  },
  {
   "cell_type": "markdown",
   "id": "db14b205",
   "metadata": {},
   "source": [
    "## 5. Database Connection"
   ]
  },
  {
   "cell_type": "code",
   "execution_count": 17,
   "id": "da3effe4",
   "metadata": {},
   "outputs": [
    {
     "name": "stdout",
     "output_type": "stream",
     "text": [
      "Index(['title', 'price', 'rating', 'availability', 'category', 'source',\n",
      "       'rating_num', 'availability_num'],\n",
      "      dtype='object')\n",
      "title                object\n",
      "price               float64\n",
      "rating               object\n",
      "availability         object\n",
      "category             object\n",
      "source               object\n",
      "rating_num            Int64\n",
      "availability_num      int64\n",
      "dtype: object\n"
     ]
    }
   ],
   "source": [
    "print(df.columns)\n",
    "print(df.dtypes)"
   ]
  },
  {
   "cell_type": "code",
   "execution_count": null,
   "id": "55a4c23e",
   "metadata": {},
   "outputs": [
    {
     "data": {
      "text/plain": [
       "250"
      ]
     },
     "execution_count": 56,
     "metadata": {},
     "output_type": "execute_result"
    }
   ],
   "source": [
    "from sqlalchemy import create_engine\n",
    "import urllib\n",
    "\n",
    "# connect to SQL Server\n",
    "params = urllib.parse.quote_plus(\n",
    "    \"DRIVER={ODBC Driver 17 for SQL Server};\"\n",
    "    \"SERVER=ALNAFRAWI;\"\n",
    "    \"DATABASE=BooksDB;\"\n",
    "    \"Trusted_Connection=yes;\"\n",
    ")\n",
    "\n",
    "# create the engine \n",
    "engine = create_engine(f\"mssql+pyodbc:///?odbc_connect={params}\")\n",
    "\n",
    "# create the table if it doesn't exist \n",
    "df.to_sql('books', con=engine, if_exists='append', index=False)\n"
   ]
  }
 ],
 "metadata": {
  "kernelspec": {
   "display_name": "Python 3",
   "language": "python",
   "name": "python3"
  },
  "language_info": {
   "codemirror_mode": {
    "name": "ipython",
    "version": 3
   },
   "file_extension": ".py",
   "mimetype": "text/x-python",
   "name": "python",
   "nbconvert_exporter": "python",
   "pygments_lexer": "ipython3",
   "version": "3.13.0"
  }
 },
 "nbformat": 4,
 "nbformat_minor": 5
}
