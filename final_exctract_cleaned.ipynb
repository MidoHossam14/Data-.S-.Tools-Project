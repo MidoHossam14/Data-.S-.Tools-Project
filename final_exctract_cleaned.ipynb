{
 "cells": [
  {
   "cell_type": "code",
   "execution_count": 1,
   "id": "e07563aa",
   "metadata": {},
   "outputs": [],
   "source": [
    "import requests\n",
    "from bs4 import BeautifulSoup\n",
    "import pandas as pd\n",
    "import random\n",
    "\n",
    "# Scrape Books to Scrape (First source)\n",
    "def scrape_books_to_scrape(max_books=150):\n",
    "    books = []\n",
    "    url = 'https://books.toscrape.com/catalogue/page-1.html'\n",
    "    base_url = 'https://books.toscrape.com/catalogue/'\n",
    "    while url and len(books) < max_books:\n",
    "        response = requests.get(url)\n",
    "        soup = BeautifulSoup(response.content, 'html.parser')\n",
    "        articles = soup.find_all('article', class_='product_pod')\n",
    "        for article in articles:\n",
    "            if len(books) >= max_books:\n",
    "                break\n",
    "            title = article.h3.a['title']\n",
    "            price = article.find('p', class_='price_color').text.strip()\n",
    "            rating_class = article.find('p', class_='star-rating')['class'][1]\n",
    "            availability = article.find('p', class_='instock availability').text.strip()\n",
    "            # الدخول على صفحة الكتاب عشان نجيب الكاتيجوري\n",
    "            detail_url = base_url + article.h3.a['href'].replace('../../../', '')\n",
    "            detail_response = requests.get(detail_url)\n",
    "            detail_soup = BeautifulSoup(detail_response.content, 'html.parser')\n",
    "            category = detail_soup.find('ul', class_='breadcrumb').find_all('li')[2].text.strip()\n",
    "            books.append({\n",
    "                'title': title,\n",
    "                'price': price,\n",
    "                'rating': rating_class,\n",
    "                'availability': availability,\n",
    "                'category': category,\n",
    "                'source': 'Books to Scrape'\n",
    "            })\n",
    "        next_button = soup.find('li', class_='next')\n",
    "        if next_button:\n",
    "            url = 'https://books.toscrape.com/catalogue/' + next_button.a['href']\n",
    "        else:\n",
    "            url = None\n",
    "    return books"
   ]
  },
  {
   "cell_type": "code",
   "execution_count": 2,
   "id": "2a99ec59",
   "metadata": {},
   "outputs": [],
   "source": [
    "# Scrape OpenLibrary (Second source)\n",
    "def scrape_openlibrary(max_books=150):\n",
    "    books = []\n",
    "    base_url = \"https://openlibrary.org/search.json?q=python\"\n",
    "    response = requests.get(base_url)\n",
    "    if response.status_code == 200:\n",
    "        data = response.json()\n",
    "        docs = data.get('docs', [])\n",
    "        for doc in docs[:max_books]:\n",
    "            title = doc.get('title', 'Unknown')\n",
    "            price = f\"£{random.randint(10, 100)}.00\"  # Fake price\n",
    "            rating = random.choice(['One', 'Two', 'Three', 'Four', 'Five'])\n",
    "            availability = 'In stock'\n",
    "            subjects = doc.get('subject')\n",
    "            if subjects:\n",
    "                category = subjects[0]\n",
    "            else:\n",
    "                category = 'Programming'\n",
    "            books.append({\n",
    "                'title': title,\n",
    "                'price': price,\n",
    "                'rating': rating,\n",
    "                'availability': availability,\n",
    "                'category': category,\n",
    "                'source': 'OpenLibrary'\n",
    "            })\n",
    "    return books"
   ]
  },
  {
   "cell_type": "code",
   "execution_count": 3,
   "id": "f5e75d18",
   "metadata": {},
   "outputs": [],
   "source": [
    "# Scrape Google Books API (Third source)\n",
    "def scrape_google_books_api(max_books=150):\n",
    "    books = []\n",
    "    base_url = \"https://www.googleapis.com/books/v1/volumes?q=python&maxResults=40\"  # Search query and max results\n",
    "    response = requests.get(base_url)\n",
    "    \n",
    "    if response.status_code == 200:\n",
    "        data = response.json()\n",
    "        items = data.get('items', [])\n",
    "        for item in items[:max_books]:\n",
    "            title = item['volumeInfo'].get('title', 'Unknown')\n",
    "            price = 'N/A'  # Google Books API does not provide price\n",
    "            rating = item['volumeInfo'].get('averageRating', 'N/A')\n",
    "            availability = 'In stock'  # Not available in Google Books API, so we assume it's in stock\n",
    "            categories = item['volumeInfo'].get('categories', ['N/A'])\n",
    "            category = ', '.join(categories)\n",
    "            books.append({\n",
    "                'title': title,\n",
    "                'price': price,\n",
    "                'rating': rating,\n",
    "                'availability': availability,\n",
    "                'category': category,\n",
    "                'source': 'Google Books API'\n",
    "            })\n",
    "    return books"
   ]
  },
  {
   "cell_type": "code",
   "execution_count": 4,
   "id": "91f73b42",
   "metadata": {},
   "outputs": [
    {
     "name": "stdout",
     "output_type": "stream",
     "text": [
      "                                               title   price rating  \\\n",
      "0                               A Light in the Attic  £51.77  Three   \n",
      "1                                 Tipping the Velvet  £53.74    One   \n",
      "2                                         Soumission  £50.10    One   \n",
      "3                                      Sharp Objects  £47.82   Four   \n",
      "4              Sapiens: A Brief History of Humankind  £54.23   Five   \n",
      "5                                    The Requiem Red  £22.65    One   \n",
      "6  The Dirty Little Secrets of Getting Your Dream...  £33.34   Four   \n",
      "7  The Coming Woman: A Novel Based on the Life of...  £17.93  Three   \n",
      "8  The Boys in the Boat: Nine Americans and Their...  £22.60   Four   \n",
      "9                                    The Black Maria  £52.15    One   \n",
      "\n",
      "  availability            category           source  \n",
      "0     In stock              Poetry  Books to Scrape  \n",
      "1     In stock  Historical Fiction  Books to Scrape  \n",
      "2     In stock             Fiction  Books to Scrape  \n",
      "3     In stock             Mystery  Books to Scrape  \n",
      "4     In stock             History  Books to Scrape  \n",
      "5     In stock         Young Adult  Books to Scrape  \n",
      "6     In stock            Business  Books to Scrape  \n",
      "7     In stock             Default  Books to Scrape  \n",
      "8     In stock             Default  Books to Scrape  \n",
      "9     In stock              Poetry  Books to Scrape  \n"
     ]
    }
   ],
   "source": [
    "# Clean price function\n",
    "def clean_price(price):\n",
    "    return price.replace('Â', '').replace('Ã‚', '').replace('Â£', '£').strip()\n",
    "\n",
    "# Get books from all sources\n",
    "books1 = scrape_books_to_scrape(max_books=150)\n",
    "books2 = scrape_openlibrary(max_books=150)\n",
    "books3 = scrape_google_books_api(max_books=150)\n",
    "\n",
    "# Combine all books\n",
    "all_books = books1 + books2 + books3\n",
    "\n",
    "# Clean prices\n",
    "for book in all_books:\n",
    "    book['price'] = clean_price(book['price'])\n",
    "\n",
    "# Save to CSV\n",
    "df = pd.DataFrame(all_books)\n",
    "df.to_csv('books_data.csv', index=False, encoding='utf-8-sig')\n",
    "\n",
    "# Read the saved file\n",
    "df = pd.read_csv('books_data.csv')\n",
    "print(df.head(10))\n"
   ]
  },
  {
   "cell_type": "code",
   "execution_count": 5,
   "id": "2f3aeb51",
   "metadata": {},
   "outputs": [
    {
     "name": "stdout",
     "output_type": "stream",
     "text": [
      "Index(['title', 'price', 'rating', 'availability', 'category', 'source'], dtype='object')\n"
     ]
    }
   ],
   "source": [
    "print(df.columns)"
   ]
  },
  {
   "cell_type": "code",
   "execution_count": 6,
   "id": "96a749a1",
   "metadata": {},
   "outputs": [
    {
     "name": "stdout",
     "output_type": "stream",
     "text": [
      "title            0\n",
      "price           40\n",
      "rating          33\n",
      "availability     0\n",
      "category         1\n",
      "source           0\n",
      "dtype: int64\n"
     ]
    }
   ],
   "source": [
    "print(df.isnull().sum())"
   ]
  },
  {
   "cell_type": "code",
   "execution_count": 7,
   "id": "8224612e",
   "metadata": {},
   "outputs": [
    {
     "name": "stdout",
     "output_type": "stream",
     "text": [
      "title           0\n",
      "price           0\n",
      "rating          0\n",
      "availability    0\n",
      "category        0\n",
      "source          0\n",
      "dtype: int64\n"
     ]
    }
   ],
   "source": [
    "df.dropna(inplace=True)\n",
    "print(df.isnull().sum())"
   ]
  },
  {
   "cell_type": "code",
   "execution_count": 8,
   "id": "72011dd4",
   "metadata": {},
   "outputs": [],
   "source": [
    "df['category'] = df['category'].apply(lambda x: x if isinstance(x, str) else 'Unknown')\n"
   ]
  },
  {
   "cell_type": "code",
   "execution_count": null,
   "id": "78b5e467",
   "metadata": {},
   "outputs": [],
   "source": []
  }
 ],
 "metadata": {
  "kernelspec": {
   "display_name": "Python 3",
   "language": "python",
   "name": "python3"
  },
  "language_info": {
   "codemirror_mode": {
    "name": "ipython",
    "version": 3
   },
   "file_extension": ".py",
   "mimetype": "text/x-python",
   "name": "python",
   "nbconvert_exporter": "python",
   "pygments_lexer": "ipython3",
   "version": "3.13.0"
  }
 },
 "nbformat": 4,
 "nbformat_minor": 5
}
